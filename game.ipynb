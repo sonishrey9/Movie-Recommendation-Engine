{
 "cells": [
  {
   "cell_type": "code",
   "execution_count": 11,
   "source": [
    "import pandas as pd\r\n",
    "from sklearn.feature_extraction.text import TfidfVectorizer \r\n"
   ],
   "outputs": [],
   "metadata": {}
  },
  {
   "cell_type": "code",
   "execution_count": 12,
   "source": [
    "game = pd.read_csv(\"game.csv\")\r\n",
    "game"
   ],
   "outputs": [
    {
     "output_type": "execute_result",
     "data": {
      "text/plain": [
       "      userId                                  game  rating\n",
       "0          3  The Legend of Zelda: Ocarina of Time     4.0\n",
       "1          6              Tony Hawk's Pro Skater 2     5.0\n",
       "2          8                   Grand Theft Auto IV     4.0\n",
       "3         10                           SoulCalibur     4.0\n",
       "4         11                   Grand Theft Auto IV     4.5\n",
       "...      ...                                   ...     ...\n",
       "4995    4529                          Donut County     2.5\n",
       "4996    4533                MotorStorm: Apocalypse     3.0\n",
       "4997    4544                          The Last Guy     3.0\n",
       "4998    4548         Valiant Hearts: The Great War     4.0\n",
       "4999    4558                         Mothergunship     2.5\n",
       "\n",
       "[5000 rows x 3 columns]"
      ],
      "text/html": [
       "<div>\n",
       "<style scoped>\n",
       "    .dataframe tbody tr th:only-of-type {\n",
       "        vertical-align: middle;\n",
       "    }\n",
       "\n",
       "    .dataframe tbody tr th {\n",
       "        vertical-align: top;\n",
       "    }\n",
       "\n",
       "    .dataframe thead th {\n",
       "        text-align: right;\n",
       "    }\n",
       "</style>\n",
       "<table border=\"1\" class=\"dataframe\">\n",
       "  <thead>\n",
       "    <tr style=\"text-align: right;\">\n",
       "      <th></th>\n",
       "      <th>userId</th>\n",
       "      <th>game</th>\n",
       "      <th>rating</th>\n",
       "    </tr>\n",
       "  </thead>\n",
       "  <tbody>\n",
       "    <tr>\n",
       "      <th>0</th>\n",
       "      <td>3</td>\n",
       "      <td>The Legend of Zelda: Ocarina of Time</td>\n",
       "      <td>4.0</td>\n",
       "    </tr>\n",
       "    <tr>\n",
       "      <th>1</th>\n",
       "      <td>6</td>\n",
       "      <td>Tony Hawk's Pro Skater 2</td>\n",
       "      <td>5.0</td>\n",
       "    </tr>\n",
       "    <tr>\n",
       "      <th>2</th>\n",
       "      <td>8</td>\n",
       "      <td>Grand Theft Auto IV</td>\n",
       "      <td>4.0</td>\n",
       "    </tr>\n",
       "    <tr>\n",
       "      <th>3</th>\n",
       "      <td>10</td>\n",
       "      <td>SoulCalibur</td>\n",
       "      <td>4.0</td>\n",
       "    </tr>\n",
       "    <tr>\n",
       "      <th>4</th>\n",
       "      <td>11</td>\n",
       "      <td>Grand Theft Auto IV</td>\n",
       "      <td>4.5</td>\n",
       "    </tr>\n",
       "    <tr>\n",
       "      <th>...</th>\n",
       "      <td>...</td>\n",
       "      <td>...</td>\n",
       "      <td>...</td>\n",
       "    </tr>\n",
       "    <tr>\n",
       "      <th>4995</th>\n",
       "      <td>4529</td>\n",
       "      <td>Donut County</td>\n",
       "      <td>2.5</td>\n",
       "    </tr>\n",
       "    <tr>\n",
       "      <th>4996</th>\n",
       "      <td>4533</td>\n",
       "      <td>MotorStorm: Apocalypse</td>\n",
       "      <td>3.0</td>\n",
       "    </tr>\n",
       "    <tr>\n",
       "      <th>4997</th>\n",
       "      <td>4544</td>\n",
       "      <td>The Last Guy</td>\n",
       "      <td>3.0</td>\n",
       "    </tr>\n",
       "    <tr>\n",
       "      <th>4998</th>\n",
       "      <td>4548</td>\n",
       "      <td>Valiant Hearts: The Great War</td>\n",
       "      <td>4.0</td>\n",
       "    </tr>\n",
       "    <tr>\n",
       "      <th>4999</th>\n",
       "      <td>4558</td>\n",
       "      <td>Mothergunship</td>\n",
       "      <td>2.5</td>\n",
       "    </tr>\n",
       "  </tbody>\n",
       "</table>\n",
       "<p>5000 rows × 3 columns</p>\n",
       "</div>"
      ]
     },
     "metadata": {},
     "execution_count": 12
    }
   ],
   "metadata": {}
  },
  {
   "cell_type": "code",
   "execution_count": 13,
   "source": [
    "game.isna().sum()"
   ],
   "outputs": [
    {
     "output_type": "execute_result",
     "data": {
      "text/plain": [
       "userId    0\n",
       "game      0\n",
       "rating    0\n",
       "dtype: int64"
      ]
     },
     "metadata": {},
     "execution_count": 13
    }
   ],
   "metadata": {}
  },
  {
   "cell_type": "markdown",
   "source": [
    "## No Missing Files"
   ],
   "metadata": {}
  },
  {
   "cell_type": "code",
   "execution_count": 14,
   "source": [
    "# Creating a Tfidf Vectorizer to remove all stop words\r\n",
    "\r\n",
    "tfidf = TfidfVectorizer(stop_words = \"english\")    # taking stop words from tfid vectorizer\r\n",
    "tfidf\r\n",
    "# taking top english top words"
   ],
   "outputs": [
    {
     "output_type": "execute_result",
     "data": {
      "text/plain": [
       "TfidfVectorizer(stop_words='english')"
      ]
     },
     "metadata": {},
     "execution_count": 14
    }
   ],
   "metadata": {}
  },
  {
   "cell_type": "code",
   "execution_count": 15,
   "source": [
    "# Preparing the Tfidf matrix by fitting and transforming\r\n",
    "tfidf_matrix = tfidf.fit_transform(game.game)  \r\n",
    "\r\n",
    " # Transform a count matrix to a normalized tf or tf-idf representation\r\n",
    "\r\n",
    "\r\n",
    "tfidf_matrix.shape "
   ],
   "outputs": [
    {
     "output_type": "execute_result",
     "data": {
      "text/plain": [
       "(5000, 3068)"
      ]
     },
     "metadata": {},
     "execution_count": 15
    }
   ],
   "metadata": {}
  },
  {
   "cell_type": "code",
   "execution_count": 16,
   "source": [
    "tfidf_matrix"
   ],
   "outputs": [
    {
     "output_type": "execute_result",
     "data": {
      "text/plain": [
       "<5000x3068 sparse matrix of type '<class 'numpy.float64'>'\n",
       "\twith 14496 stored elements in Compressed Sparse Row format>"
      ]
     },
     "metadata": {},
     "execution_count": 16
    }
   ],
   "metadata": {}
  },
  {
   "cell_type": "markdown",
   "source": [
    "with the above matrix we need to find the similarity score¶\r\n",
    "\r\n",
    "There are several metrics for this such as the euclidean,\r\n",
    "\r\n",
    "the Pearson and the cosine similarity scores\r\n",
    "\r\n",
    "For now we will be using cosine similarity matrix\r\n",
    "\r\n",
    "A numeric quantity to represent the similarity between 2 Games\r\n",
    "\r\n",
    "Cosine similarity - metric is independent of magnitude and easy to calculate"
   ],
   "metadata": {}
  },
  {
   "cell_type": "code",
   "execution_count": 17,
   "source": [
    "from sklearn.metrics.pairwise import linear_kernel"
   ],
   "outputs": [],
   "metadata": {}
  },
  {
   "cell_type": "code",
   "execution_count": 18,
   "source": [
    "# Computing the cosine similarity on Tfidf matrix\r\n",
    "cosine_sim_matrix = linear_kernel(tfidf_matrix, tfidf_matrix)\r\n",
    "cosine_sim_matrix"
   ],
   "outputs": [
    {
     "output_type": "execute_result",
     "data": {
      "text/plain": [
       "array([[1., 0., 0., ..., 0., 0., 0.],\n",
       "       [0., 1., 0., ..., 0., 0., 0.],\n",
       "       [0., 0., 1., ..., 0., 0., 0.],\n",
       "       ...,\n",
       "       [0., 0., 0., ..., 1., 0., 0.],\n",
       "       [0., 0., 0., ..., 0., 1., 0.],\n",
       "       [0., 0., 0., ..., 0., 0., 1.]])"
      ]
     },
     "metadata": {},
     "execution_count": 18
    }
   ],
   "metadata": {}
  },
  {
   "cell_type": "code",
   "execution_count": 19,
   "source": [
    "# creating a mapping of entertainment name to index number \r\n",
    "\r\n",
    "gamee_index = pd.Series(game.index, index = game['game']).drop_duplicates()\r\n",
    "gamee_index"
   ],
   "outputs": [
    {
     "output_type": "execute_result",
     "data": {
      "text/plain": [
       "game\n",
       "The Legend of Zelda: Ocarina of Time       0\n",
       "Tony Hawk's Pro Skater 2                   1\n",
       "Grand Theft Auto IV                        2\n",
       "SoulCalibur                                3\n",
       "Grand Theft Auto IV                        4\n",
       "                                        ... \n",
       "Donut County                            4995\n",
       "MotorStorm: Apocalypse                  4996\n",
       "The Last Guy                            4997\n",
       "Valiant Hearts: The Great War           4998\n",
       "Mothergunship                           4999\n",
       "Length: 5000, dtype: int64"
      ]
     },
     "metadata": {},
     "execution_count": 19
    }
   ],
   "metadata": {}
  },
  {
   "cell_type": "code",
   "execution_count": 30,
   "source": [
    "def get_recommendations(game, topN):   \r\n",
    "\r\n",
    "    # topN = 10\r\n",
    "    # Getting the game index using its title \r\n",
    "\r\n",
    "    game_id = gamee_index[game]\r\n",
    "    \r\n",
    "    # Getting the pair wise similarity score for all the entertainment's with that entertainment\r\n",
    "\r\n",
    "    cosine_scores = list(enumerate(cosine_sim_matrix[game_id]))\r\n",
    "    \r\n",
    "    # Sorting the cosine_similarity scores based on scores \r\n",
    "\r\n",
    "    cosine_scores = sorted(cosine_scores, key=lambda x:x[1], reverse = True)\r\n",
    "    \r\n",
    "    # Get the scores of top N most similar movies \r\n",
    "\r\n",
    "    cosine_scores_N = cosine_scores[0: topN+1]\r\n",
    "    \r\n",
    "    # Getting the movie index \r\n",
    "\r\n",
    "    game_idx  =  [i[0] for i in cosine_scores_N]\r\n",
    "    game_scores =  [i[1] for i in cosine_scores_N]\r\n",
    "    \r\n",
    "    # Similar movies and scores\r\n",
    "\r\n",
    "    game_similar_show = pd.DataFrame(columns=[\"Score\"])\r\n",
    "    game_similar_show[\"game\"] = game.loc[game_idx, \"game\"]\r\n",
    "    game_similar_show[\"Score\"] = game_scores\r\n",
    "    game_similar_show.reset_index(inplace = True)  \r\n",
    "\r\n",
    "    print (game_similar_show)\r\n",
    "    \r\n",
    "   "
   ],
   "outputs": [],
   "metadata": {}
  },
  {
   "cell_type": "code",
   "execution_count": 31,
   "source": [
    "get_recommendations(\"The Legend of Zelda: Ocarina of Time\", topN = 10)\r\n",
    "gamee_index[\"The Legend of Zelda: Ocarina of Time\"]"
   ],
   "outputs": [
    {
     "output_type": "error",
     "ename": "AttributeError",
     "evalue": "'str' object has no attribute 'loc'",
     "traceback": [
      "\u001b[1;31m---------------------------------------------------------------------------\u001b[0m",
      "\u001b[1;31mAttributeError\u001b[0m                            Traceback (most recent call last)",
      "\u001b[1;32m<ipython-input-31-c8712ad39263>\u001b[0m in \u001b[0;36m<module>\u001b[1;34m\u001b[0m\n\u001b[1;32m----> 1\u001b[1;33m \u001b[0mget_recommendations\u001b[0m\u001b[1;33m(\u001b[0m\u001b[1;34m\"The Legend of Zelda: Ocarina of Time\"\u001b[0m\u001b[1;33m,\u001b[0m \u001b[0mtopN\u001b[0m \u001b[1;33m=\u001b[0m \u001b[1;36m10\u001b[0m\u001b[1;33m)\u001b[0m\u001b[1;33m\u001b[0m\u001b[1;33m\u001b[0m\u001b[0m\n\u001b[0m\u001b[0;32m      2\u001b[0m \u001b[0mgamee_index\u001b[0m\u001b[1;33m[\u001b[0m\u001b[1;34m\"The Legend of Zelda: Ocarina of Time\"\u001b[0m\u001b[1;33m]\u001b[0m\u001b[1;33m\u001b[0m\u001b[1;33m\u001b[0m\u001b[0m\n",
      "\u001b[1;32m<ipython-input-30-b72232d32e5a>\u001b[0m in \u001b[0;36mget_recommendations\u001b[1;34m(game, topN)\u001b[0m\n\u001b[0;32m     26\u001b[0m \u001b[1;33m\u001b[0m\u001b[0m\n\u001b[0;32m     27\u001b[0m     \u001b[0mgame_similar_show\u001b[0m \u001b[1;33m=\u001b[0m \u001b[0mpd\u001b[0m\u001b[1;33m.\u001b[0m\u001b[0mDataFrame\u001b[0m\u001b[1;33m(\u001b[0m\u001b[0mcolumns\u001b[0m\u001b[1;33m=\u001b[0m\u001b[1;33m[\u001b[0m\u001b[1;34m\"Score\"\u001b[0m\u001b[1;33m]\u001b[0m\u001b[1;33m)\u001b[0m\u001b[1;33m\u001b[0m\u001b[1;33m\u001b[0m\u001b[0m\n\u001b[1;32m---> 28\u001b[1;33m     \u001b[0mgame_similar_show\u001b[0m\u001b[1;33m[\u001b[0m\u001b[1;34m\"game\"\u001b[0m\u001b[1;33m]\u001b[0m \u001b[1;33m=\u001b[0m \u001b[0mgame\u001b[0m\u001b[1;33m.\u001b[0m\u001b[0mloc\u001b[0m\u001b[1;33m[\u001b[0m\u001b[0mgame_idx\u001b[0m\u001b[1;33m,\u001b[0m \u001b[1;34m\"game\"\u001b[0m\u001b[1;33m]\u001b[0m\u001b[1;33m\u001b[0m\u001b[1;33m\u001b[0m\u001b[0m\n\u001b[0m\u001b[0;32m     29\u001b[0m     \u001b[0mgame_similar_show\u001b[0m\u001b[1;33m[\u001b[0m\u001b[1;34m\"Score\"\u001b[0m\u001b[1;33m]\u001b[0m \u001b[1;33m=\u001b[0m \u001b[0mgame_scores\u001b[0m\u001b[1;33m\u001b[0m\u001b[1;33m\u001b[0m\u001b[0m\n\u001b[0;32m     30\u001b[0m     \u001b[0mgame_similar_show\u001b[0m\u001b[1;33m.\u001b[0m\u001b[0mreset_index\u001b[0m\u001b[1;33m(\u001b[0m\u001b[0minplace\u001b[0m \u001b[1;33m=\u001b[0m \u001b[1;32mTrue\u001b[0m\u001b[1;33m)\u001b[0m\u001b[1;33m\u001b[0m\u001b[1;33m\u001b[0m\u001b[0m\n",
      "\u001b[1;31mAttributeError\u001b[0m: 'str' object has no attribute 'loc'"
     ]
    }
   ],
   "metadata": {}
  },
  {
   "cell_type": "code",
   "execution_count": null,
   "source": [],
   "outputs": [],
   "metadata": {}
  }
 ],
 "metadata": {
  "interpreter": {
   "hash": "ac59ebe37160ed0dfa835113d9b8498d9f09ceb179beaac4002f036b9467c963"
  },
  "kernelspec": {
   "display_name": "Python 3.9.5 64-bit",
   "name": "python3"
  },
  "language_info": {
   "name": "python",
   "version": ""
  },
  "orig_nbformat": 4
 },
 "nbformat": 4,
 "nbformat_minor": 2
}